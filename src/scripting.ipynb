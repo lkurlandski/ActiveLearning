{
 "cells": [
  {
   "cell_type": "code",
   "execution_count": 10,
   "metadata": {},
   "outputs": [],
   "source": [
    "from pathlib import Path\n",
    "from statistics import mean"
   ]
  },
  {
   "cell_type": "code",
   "execution_count": 3,
   "metadata": {},
   "outputs": [],
   "source": [
    "from pathlib import Path\n",
    "p1 = Path(\"/home/hpc/kurlanl1/bloodgood/modAL/output/preprocessedClassification/10/1000/10/mlp/Avila/ind_seeds\")\n",
    "seeds = [str(i) for i in range(0, 30)]\n",
    "p2 = Path(\"processed/average/accuracy.csv\")"
   ]
  },
  {
   "cell_type": "code",
   "execution_count": 17,
   "metadata": {},
   "outputs": [],
   "source": [
    "def accuracy_at_iteration(i):\n",
    "\taccs = []\n",
    "\tfor s in seeds:\n",
    "\t\tp = p1 / s / p2\n",
    "\t\tif not p.exists():\n",
    "\t\t\tcontinue\n",
    "\t\t\tprint(f\"missing seed {s}\")\n",
    "\t\telse:\n",
    "\t\t\twith open(p) as f:\n",
    "\t\t\t\taccs.append(float(f.readlines()[i].split(',')[1]))\n",
    "\treturn mean(accs)"
   ]
  },
  {
   "cell_type": "code",
   "execution_count": 18,
   "metadata": {},
   "outputs": [
    {
     "name": "stdout",
     "output_type": "stream",
     "text": [
      "0.20414669223394055\n",
      "0.3325703100031959\n",
      "0.5556527644614893\n",
      "0.8009587727708533\n",
      "0.8124440715883668\n",
      "0.816115372323426\n",
      "0.8142178012144455\n",
      "0.816978267817194\n",
      "0.8172539149888143\n",
      "0.8177812400127836\n",
      "0.8184443911792905\n",
      "0.8188279002876319\n",
      "0.8166387024608501\n",
      "0.5920901246404602\n",
      "0.8184244167465644\n",
      "0.817553531479706\n",
      "0.818759987216363\n",
      "0.8167345797379354\n",
      "0.8172339405560882\n",
      "0.8169542984979227\n",
      "0.8192273889421541\n",
      "0.8175415468200703\n",
      "0.8202061361457335\n",
      "0.8183485139022052\n",
      "0.5996883988494727\n",
      "0.7980624800255672\n",
      "0.8118728028124002\n",
      "0.8159995206136146\n",
      "0.8170102269095557\n",
      "0.8185282837967401\n"
     ]
    }
   ],
   "source": [
    "for i in range(1, 31):\n",
    "    print(accuracy_at_iteration(i))"
   ]
  },
  {
   "cell_type": "code",
   "execution_count": null,
   "metadata": {},
   "outputs": [],
   "source": []
  }
 ],
 "metadata": {
  "interpreter": {
   "hash": "c6e48b5c364766448a00bcfdf5917b597848fcd6893f1f894043055fbf5bf1dd"
  },
  "kernelspec": {
   "display_name": "Python 3.7.5 ('env': venv)",
   "language": "python",
   "name": "python3"
  },
  "language_info": {
   "codemirror_mode": {
    "name": "ipython",
    "version": 3
   },
   "file_extension": ".py",
   "mimetype": "text/x-python",
   "name": "python",
   "nbconvert_exporter": "python",
   "pygments_lexer": "ipython3",
   "version": "3.7.5"
  },
  "orig_nbformat": 4
 },
 "nbformat": 4,
 "nbformat_minor": 2
}
